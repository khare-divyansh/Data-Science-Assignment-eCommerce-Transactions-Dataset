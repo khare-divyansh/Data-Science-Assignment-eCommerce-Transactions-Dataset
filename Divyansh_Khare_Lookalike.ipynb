{
  "cells": [
    {
      "cell_type": "code",
      "execution_count": null,
      "metadata": {
        "id": "-2FnVidaTTlE"
      },
      "outputs": [],
      "source": [
        "import pandas as pd\n",
        "from sklearn.metrics.pairwise import cosine_similarity\n",
        "from sklearn.preprocessing import StandardScaler\n",
        "import numpy as np"
      ]
    },
    {
      "cell_type": "code",
      "execution_count": null,
      "metadata": {
        "id": "avwS_ez2T0zA"
      },
      "outputs": [],
      "source": [
        "# Load the datasets\n",
        "customers_path = '/assets/Customers.csv'\n",
        "products_path = '/assets/Products.csv'\n",
        "transactions_path = '/assets/Transactions.csv'\n",
        "\n",
        "# Reading the datasets\n",
        "customers_df = pd.read_csv('/assets/Customers.csv')\n",
        "products_df = pd.read_csv('/assets/Products.csv')\n",
        "transactions_df = pd.read_csv('/assets/Transactions.csv')"
      ]
    },
    {
      "cell_type": "code",
      "execution_count": null,
      "metadata": {
        "id": "v6vnuqk-T-qg"
      },
      "outputs": [],
      "source": [
        "# Merge Datasets\n",
        "def merge_datasets():\n",
        "    merged_df = transactions_df.merge(customers_df, on='CustomerID').merge(products_df, on='ProductID')\n",
        "    return merged_df\n",
        "\n",
        "# Feature Engineering\n",
        "def create_customer_features(merged_df):\n",
        "    # Aggregate transaction data for each customer\n",
        "    customer_features = merged_df.groupby('CustomerID').agg(\n",
        "        total_spent=('TotalValue', 'sum'),\n",
        "        total_transactions=('TransactionID', 'count'),\n",
        "        avg_transaction_value=('TotalValue', 'mean')\n",
        "    ).reset_index()\n",
        "\n",
        "    # Add product category preferences\n",
        "    category_pivot = pd.pivot_table(\n",
        "        merged_df,\n",
        "        index='CustomerID',\n",
        "        columns='Category',\n",
        "        values='TotalValue',\n",
        "        aggfunc='sum',\n",
        "        fill_value=0\n",
        "    )\n",
        "    customer_features = customer_features.merge(category_pivot, on='CustomerID', how='left')\n",
        "\n",
        "    # Add region information\n",
        "    customer_features = customer_features.merge(customers_df[['CustomerID', 'Region']], on='CustomerID', how='left')\n",
        "\n",
        "    # Encode region as dummy variables\n",
        "    customer_features = pd.get_dummies(customer_features, columns=['Region'], drop_first=True)\n",
        "\n",
        "    return customer_features"
      ]
    },
    {
      "cell_type": "code",
      "execution_count": null,
      "metadata": {
        "id": "pKVZPxeBUIdy"
      },
      "outputs": [],
      "source": [
        "# Similarity Computation\n",
        "def compute_similarity(customer_features):\n",
        "    # Standardize the features\n",
        "    scaler = StandardScaler()\n",
        "    feature_matrix = scaler.fit_transform(customer_features.iloc[:, 1:])\n",
        "\n",
        "    # Compute cosine similarity\n",
        "    similarity_matrix = cosine_similarity(feature_matrix)\n",
        "    return similarity_matrix\n",
        "\n",
        "# Generate Lookalike Recommendations\n",
        "def generate_lookalikes(similarity_matrix, customer_ids, top_n=3):\n",
        "    lookalike_map = {}\n",
        "\n",
        "    for idx, cust_id in enumerate(customer_ids):\n",
        "        # Get similarity scores for the current customer\n",
        "        similarity_scores = list(enumerate(similarity_matrix[idx]))\n",
        "\n",
        "        # Sort by similarity, exclude the customer itself\n",
        "        sorted_scores = sorted(similarity_scores, key=lambda x: x[1], reverse=True)\n",
        "        top_similar = [\n",
        "            (customer_ids[i], round(score, 2))\n",
        "            for i, score in sorted_scores[1:top_n + 1]  # Exclude self-match (first entry)\n",
        "        ]\n",
        "\n",
        "        # Store the result\n",
        "        lookalike_map[cust_id] = top_similar\n",
        "\n",
        "    return lookalike_map"
      ]
    },
    {
      "cell_type": "code",
      "execution_count": null,
      "metadata": {
        "id": "Gzywth8dUJp6"
      },
      "outputs": [],
      "source": [
        "# Save Lookalikes to CSV\n",
        "def save_lookalikes(lookalike_map, output_path='Lookalike.csv'):\n",
        "    lookalike_list = []\n",
        "    for cust_id, lookalikes in lookalike_map.items():\n",
        "        for similar_cust, score in lookalikes:\n",
        "            lookalike_list.append({\n",
        "                'CustomerID': cust_id,\n",
        "                'SimilarCustomerID': similar_cust,\n",
        "                'SimilarityScore': score\n",
        "            })\n",
        "\n",
        "    lookalike_df = pd.DataFrame(lookalike_list)\n",
        "    lookalike_df.to_csv(output_path, index=False)"
      ]
    },
    {
      "cell_type": "code",
      "execution_count": null,
      "metadata": {
        "colab": {
          "base_uri": "https://localhost:8080/"
        },
        "id": "ejQGTS6xUMfq",
        "outputId": "79050c31-9844-4617-a36e-5e581ed4e719"
      },
      "outputs": [],
      "source": [
        "# Run the Model\n",
        "if __name__ == \"__main__\":\n",
        "    # Merge the datasets\n",
        "    merged_df = merge_datasets()\n",
        "\n",
        "    # Create customer features\n",
        "    customer_features = create_customer_features(merged_df)\n",
        "\n",
        "    # Compute similarity matrix\n",
        "    similarity_matrix = compute_similarity(customer_features)\n",
        "\n",
        "    # Generate lookalikes for first 20 customers\n",
        "    first_20_customers = customers_df['CustomerID'].iloc[:20].tolist()\n",
        "    lookalike_map = generate_lookalikes(similarity_matrix, customer_features['CustomerID'].tolist())\n",
        "\n",
        "    # Save lookalikes for first 20 customers\n",
        "    filtered_lookalikes = {cust_id: lookalike_map[cust_id] for cust_id in first_20_customers}\n",
        "    save_lookalikes(filtered_lookalikes)\n",
        "\n",
        "    print(\"Lookalike model completed. Results saved to Lookalike.csv.\")"
      ]
    }
  ],
  "metadata": {
    "colab": {
      "provenance": []
    },
    "kernelspec": {
      "display_name": "Python 3",
      "name": "python3"
    },
    "language_info": {
      "name": "python",
      "version": "3.12.3"
    }
  },
  "nbformat": 4,
  "nbformat_minor": 0
}
